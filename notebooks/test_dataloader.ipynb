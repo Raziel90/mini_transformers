{
 "cells": [
  {
   "cell_type": "code",
   "execution_count": 1,
   "metadata": {},
   "outputs": [],
   "source": [
    "# Load the autoreload extension\n",
    "%load_ext autoreload\n",
    "\n",
    "# Set autoreload to reload all modules before executing code\n",
    "%autoreload 2\n",
    "\n",
    "from mini_transformers.data_load import ShakespeareDataset\n",
    "from mini_transformers.models.bigram_model import BigramModel\n",
    "from mini_transformers.models.embedding_model import (\n",
    "    SimpleEmbedding, HeadEmbedding, PositionHeadEmbedding, \n",
    "    MultiHeadedAttentionEmbedding, ResidualBlockAttentionEmbedding, GPT)\n",
    "import torch\n",
    "import torch.nn.functional as F\n",
    "from torch.utils.data import DataLoader\n",
    "from tqdm import tqdm\n",
    "\n",
    "CONTEXT_LEN = 256\n",
    "ds = ShakespeareDataset(context_lenght=CONTEXT_LEN)\n",
    "\n",
    "# ds\n"
   ]
  },
  {
   "cell_type": "code",
   "execution_count": 7,
   "metadata": {},
   "outputs": [
    {
     "name": "stdout",
     "output_type": "stream",
     "text": [
      "torch.Size([64, 256]) torch.Size([64, 256])\n"
     ]
    }
   ],
   "source": [
    "train_ds, valid_ds = ds.train_valid_subsets()\n",
    "BATCH_SIZE = 64\n",
    "\n",
    "train_loader = DataLoader(\n",
    "    train_ds,\n",
    "    batch_size=BATCH_SIZE,\n",
    "    shuffle=True,\n",
    "    num_workers=5,\n",
    "    persistent_workers=True,\n",
    ")\n",
    "valid_loader = DataLoader(\n",
    "    valid_ds,\n",
    "    batch_size=BATCH_SIZE,\n",
    "    shuffle=False,\n",
    "    num_workers=5,\n",
    "    persistent_workers=True,\n",
    ")\n",
    "\n",
    "for x, y in train_loader:\n",
    "    print(x.shape, y.shape)\n",
    "    break"
   ]
  },
  {
   "cell_type": "code",
   "execution_count": 12,
   "metadata": {},
   "outputs": [
    {
     "name": "stderr",
     "output_type": "stream",
     "text": [
      "  0%|          | 0/15686 [00:00<?, ?it/s]"
     ]
    },
    {
     "name": "stdout",
     "output_type": "stream",
     "text": [
      "torch.Size([64, 256]) torch.Size([64, 256])\n",
      "tensor([[ 1, 58, 46,  ..., 42, 10,  1],\n",
      "        [39, 51, 53,  ...,  8,  0,  0],\n",
      "        [50, 50,  1,  ...,  1, 46, 43],\n",
      "        ...,\n",
      "        [57, 46, 43,  ..., 53, 58, 46],\n",
      "        [45, 46, 58,  ..., 17, 17, 26],\n",
      "        [ 0, 32, 46,  ..., 43, 56, 43]])\n",
      "tensor([[58, 46, 47,  ..., 10,  1, 53],\n",
      "        [51, 53, 52,  ...,  0,  0, 31],\n",
      "        [50,  1, 57,  ..., 46, 43, 56],\n",
      "        ...,\n",
      "        [46, 43, 49,  ..., 58, 46, 47],\n",
      "        [46, 58, 43,  ..., 17, 26,  1],\n",
      "        [32, 46, 53,  ..., 56, 43,  1]])\n"
     ]
    },
    {
     "name": "stderr",
     "output_type": "stream",
     "text": [
      "\n"
     ]
    }
   ],
   "source": [
    "ds\n",
    "# DataLoader(train_ds, batch_size=BATCH_SIZE, shuffle=True)\n",
    "for xb, yb in (tqdm(train_loader)):\n",
    "    print(xb.shape, yb.shape)\n",
    "    print(xb)\n",
    "    print(yb)\n",
    "    break\n"
   ]
  }
 ],
 "metadata": {
  "kernelspec": {
   "display_name": "mini-transformers-sGNNfOKm-py3.12",
   "language": "python",
   "name": "python3"
  },
  "language_info": {
   "codemirror_mode": {
    "name": "ipython",
    "version": 3
   },
   "file_extension": ".py",
   "mimetype": "text/x-python",
   "name": "python",
   "nbconvert_exporter": "python",
   "pygments_lexer": "ipython3",
   "version": "3.12.3"
  }
 },
 "nbformat": 4,
 "nbformat_minor": 2
}
