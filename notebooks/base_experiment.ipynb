{
 "cells": [
  {
   "cell_type": "code",
   "execution_count": 1,
   "metadata": {},
   "outputs": [],
   "source": [
    "# Load the autoreload extension\n",
    "%load_ext autoreload\n",
    "\n",
    "# Set autoreload to reload all modules before executing code\n",
    "%autoreload 2\n",
    "\n",
    "from mini_transformers.data_load import ShakespeareDataset\n",
    "from mini_transformers.models.bigram_model import BigramModel\n",
    "from mini_transformers.models.embedding_model import (\n",
    "    SimpleEmbedding, HeadEmbedding, PositionHeadEmbedding, \n",
    "    MultiHeadedAttentionEmbedding, ResidualBlockAttentionEmbedding, GPT)\n",
    "import torch\n",
    "import torch.nn.functional as F\n",
    "from torch.utils.data import DataLoader\n",
    "from tqdm import tqdm\n",
    "\n",
    "CONTEXT_LEN = 256\n",
    "ds = ShakespeareDataset(context_lenght=CONTEXT_LEN)\n",
    "\n",
    "# ds\n"
   ]
  },
  {
   "cell_type": "code",
   "execution_count": 2,
   "metadata": {},
   "outputs": [],
   "source": [
    "train_ds, valid_ds = ds.train_valid_subsets()"
   ]
  },
  {
   "cell_type": "code",
   "execution_count": 3,
   "metadata": {},
   "outputs": [
    {
     "name": "stdout",
     "output_type": "stream",
     "text": [
      "\n",
      "\n",
      "\n",
      "QOecOECVP?rXA;:EGs3N,gFZBcCQ$USu'&EP&qcQcUCEPzBmdtI'\n",
      "bXpHHXr-wkTIdjekufuu3yb'HYMb3y-ZDHVqRTA;lJaNG\n"
     ]
    }
   ],
   "source": [
    "\n",
    "torch.manual_seed(1337)\n",
    "# simple_text_generator = BigramModel(SimpleEmbedding(len(ds.vocabulary)))\n",
    "# head_text_generator = BigramModel(HeadEmbedding(len(ds.vocabulary), 100))\n",
    "# position_text_generator = BigramModel(PositionHeadEmbedding(len(ds.vocabulary), 100, context_len=CONTEXT_LEN))\n",
    "# attention_text_generator = BigramModel(SingleHeadedAttentionEmbedding(vocab_size=len(ds.vocabulary), n_embeds=100, head_size=100, context_len=CONTEXT_LEN))\n",
    "# attention_text_generator = BigramModel(MultiHeadedAttentionEmbedding(vocab_size=len(ds.vocabulary), n_embeds=100, n_heads=3, head_size=100, context_len=CONTEXT_LEN)).to('mps')\n",
    "# attention_text_generator = BigramModel(ResidualBlockAttentionEmbedding(vocab_size=len(ds.vocabulary), n_layers=6, n_embeds=100, n_heads=3, context_len=CONTEXT_LEN)).to('mps')\n",
    "attention_text_generator = BigramModel(GPT(vocab_size=len(ds.vocabulary), \n",
    "                                           n_layers=6, n_embeds=384, n_heads=6, \n",
    "                                           context_len=CONTEXT_LEN, dropout=0.2)).to('mps')\n",
    "text_generator = attention_text_generator\n",
    "# text_generator = position_text_generator\n",
    "gen_text = ds.vocabulary.decode(text_generator.generate().squeeze().tolist())\n",
    "print(gen_text)"
   ]
  },
  {
   "cell_type": "code",
   "execution_count": 4,
   "metadata": {},
   "outputs": [],
   "source": [
    "optimizer = torch.optim.AdamW(text_generator.parameters(), lr=1e-4)"
   ]
  },
  {
   "cell_type": "code",
   "execution_count": 6,
   "metadata": {},
   "outputs": [
    {
     "name": "stderr",
     "output_type": "stream",
     "text": [
      "loss = 0.346: 100%|██████████| 15686/15686 [1:42:53<00:00,  2.54it/s]\n"
     ]
    }
   ],
   "source": [
    "batch_size = 64\n",
    "train_loader = DataLoader(train_ds, batch_size=batch_size, shuffle=True)\n",
    "for xb, yb in (pbar := tqdm(train_loader)):\n",
    "    logits, loss = text_generator(xb.to('mps'), yb.to('mps'))\n",
    "    optimizer.zero_grad(set_to_none=True)\n",
    "    loss.backward()\n",
    "    pbar.set_description(f'{loss = :.3f}')\n",
    "    optimizer.step()\n",
    "\n"
   ]
  },
  {
   "cell_type": "code",
   "execution_count": 16,
   "metadata": {},
   "outputs": [
    {
     "name": "stdout",
     "output_type": "stream",
     "text": [
      "\n",
      "\n",
      "\n",
      "PROSPERO:e that he did befre you not\n",
      "A better score in spite, for a Christian peace!\n",
      "What a sist rime, wound her that's bolted\n",
      "Still slaughter'd by Viencio, so speak and hour!\n",
      "he hath their tods: lether hear he make him lose; away. When.\n",
      "But with an unkindness of raves me?\n",
      "Nurse! Where is yond shall be here and supperfeCant\n",
      "Are speaks that we should be? We shout they seeds,\n",
      "Aid\n",
      "In that I see the very boot!\n",
      "From sure, as I sea--she hath a done of men,\n",
      "His young stands upon the way of heaven heart,\n",
      "Injury alives his wise; and when they must pace,--O,\n",
      "Piter your quarres, you wounds beauty is mistard.--\n",
      "She is to much my father's fair? What's the mater?\n",
      "Dost thou an arm mourn; I quarrely would love,\n",
      "And I feel out of the mount of heaven with ease?\n",
      "Ratcliff! a very farmer of life,\n",
      "In the meat\n"
     ]
    }
   ],
   "source": [
    "print(ds.vocabulary.decode(text_generator.generate(max_new_tokens=800, top_k=15).squeeze().tolist()))"
   ]
  }
 ],
 "metadata": {
  "kernelspec": {
   "display_name": "Python 3 (ipykernel)",
   "language": "python",
   "name": "python3"
  },
  "language_info": {
   "codemirror_mode": {
    "name": "ipython",
    "version": 3
   },
   "file_extension": ".py",
   "mimetype": "text/x-python",
   "name": "python",
   "nbconvert_exporter": "python",
   "pygments_lexer": "ipython3",
   "version": "3.12.3"
  }
 },
 "nbformat": 4,
 "nbformat_minor": 2
}
